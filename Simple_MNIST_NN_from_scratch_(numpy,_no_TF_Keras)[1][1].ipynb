{
  "cells": [
    {
      "cell_type": "code",
      "execution_count": 1,
      "metadata": {
        "_cell_guid": "b1076dfc-b9ad-4769-8c92-a6c4dae69d19",
        "_uuid": "8f2839f25d086af736a60e9eeb907d3b93b6e0e5",
        "id": "TEDv4uC1f6yZ",
        "trusted": true
      },
      "outputs": [],
      "source": [
        "import numpy as np\n",
        "import pandas as pd\n",
        "from matplotlib import pyplot as plt\n"
      ]
    },
    {
      "cell_type": "code",
      "execution_count": 53,
      "metadata": {
        "id": "OspYtIiFgg9G"
      },
      "outputs": [],
      "source": [
        "# Load dataset\n",
        "data = pd.read_csv(\"c:/Users/Delta/Documents/datasetML/Minst.csv\")"
      ]
    },
    {
      "cell_type": "code",
      "execution_count": 55,
      "metadata": {},
      "outputs": [
        {
          "data": {
            "text/html": [
              "<div>\n",
              "<style scoped>\n",
              "    .dataframe tbody tr th:only-of-type {\n",
              "        vertical-align: middle;\n",
              "    }\n",
              "\n",
              "    .dataframe tbody tr th {\n",
              "        vertical-align: top;\n",
              "    }\n",
              "\n",
              "    .dataframe thead th {\n",
              "        text-align: right;\n",
              "    }\n",
              "</style>\n",
              "<table border=\"1\" class=\"dataframe\">\n",
              "  <thead>\n",
              "    <tr style=\"text-align: right;\">\n",
              "      <th></th>\n",
              "      <th>label</th>\n",
              "      <th>pixel0</th>\n",
              "      <th>pixel1</th>\n",
              "      <th>pixel2</th>\n",
              "      <th>pixel3</th>\n",
              "      <th>pixel4</th>\n",
              "      <th>pixel5</th>\n",
              "      <th>pixel6</th>\n",
              "      <th>pixel7</th>\n",
              "      <th>pixel8</th>\n",
              "      <th>...</th>\n",
              "      <th>pixel774</th>\n",
              "      <th>pixel775</th>\n",
              "      <th>pixel776</th>\n",
              "      <th>pixel777</th>\n",
              "      <th>pixel778</th>\n",
              "      <th>pixel779</th>\n",
              "      <th>pixel780</th>\n",
              "      <th>pixel781</th>\n",
              "      <th>pixel782</th>\n",
              "      <th>pixel783</th>\n",
              "    </tr>\n",
              "  </thead>\n",
              "  <tbody>\n",
              "    <tr>\n",
              "      <th>0</th>\n",
              "      <td>1</td>\n",
              "      <td>0</td>\n",
              "      <td>0</td>\n",
              "      <td>0</td>\n",
              "      <td>0</td>\n",
              "      <td>0</td>\n",
              "      <td>0</td>\n",
              "      <td>0</td>\n",
              "      <td>0</td>\n",
              "      <td>0</td>\n",
              "      <td>...</td>\n",
              "      <td>0</td>\n",
              "      <td>0</td>\n",
              "      <td>0</td>\n",
              "      <td>0</td>\n",
              "      <td>0</td>\n",
              "      <td>0</td>\n",
              "      <td>0</td>\n",
              "      <td>0</td>\n",
              "      <td>0</td>\n",
              "      <td>0</td>\n",
              "    </tr>\n",
              "    <tr>\n",
              "      <th>1</th>\n",
              "      <td>0</td>\n",
              "      <td>0</td>\n",
              "      <td>0</td>\n",
              "      <td>0</td>\n",
              "      <td>0</td>\n",
              "      <td>0</td>\n",
              "      <td>0</td>\n",
              "      <td>0</td>\n",
              "      <td>0</td>\n",
              "      <td>0</td>\n",
              "      <td>...</td>\n",
              "      <td>0</td>\n",
              "      <td>0</td>\n",
              "      <td>0</td>\n",
              "      <td>0</td>\n",
              "      <td>0</td>\n",
              "      <td>0</td>\n",
              "      <td>0</td>\n",
              "      <td>0</td>\n",
              "      <td>0</td>\n",
              "      <td>0</td>\n",
              "    </tr>\n",
              "    <tr>\n",
              "      <th>2</th>\n",
              "      <td>1</td>\n",
              "      <td>0</td>\n",
              "      <td>0</td>\n",
              "      <td>0</td>\n",
              "      <td>0</td>\n",
              "      <td>0</td>\n",
              "      <td>0</td>\n",
              "      <td>0</td>\n",
              "      <td>0</td>\n",
              "      <td>0</td>\n",
              "      <td>...</td>\n",
              "      <td>0</td>\n",
              "      <td>0</td>\n",
              "      <td>0</td>\n",
              "      <td>0</td>\n",
              "      <td>0</td>\n",
              "      <td>0</td>\n",
              "      <td>0</td>\n",
              "      <td>0</td>\n",
              "      <td>0</td>\n",
              "      <td>0</td>\n",
              "    </tr>\n",
              "    <tr>\n",
              "      <th>3</th>\n",
              "      <td>4</td>\n",
              "      <td>0</td>\n",
              "      <td>0</td>\n",
              "      <td>0</td>\n",
              "      <td>0</td>\n",
              "      <td>0</td>\n",
              "      <td>0</td>\n",
              "      <td>0</td>\n",
              "      <td>0</td>\n",
              "      <td>0</td>\n",
              "      <td>...</td>\n",
              "      <td>0</td>\n",
              "      <td>0</td>\n",
              "      <td>0</td>\n",
              "      <td>0</td>\n",
              "      <td>0</td>\n",
              "      <td>0</td>\n",
              "      <td>0</td>\n",
              "      <td>0</td>\n",
              "      <td>0</td>\n",
              "      <td>0</td>\n",
              "    </tr>\n",
              "    <tr>\n",
              "      <th>4</th>\n",
              "      <td>0</td>\n",
              "      <td>0</td>\n",
              "      <td>0</td>\n",
              "      <td>0</td>\n",
              "      <td>0</td>\n",
              "      <td>0</td>\n",
              "      <td>0</td>\n",
              "      <td>0</td>\n",
              "      <td>0</td>\n",
              "      <td>0</td>\n",
              "      <td>...</td>\n",
              "      <td>0</td>\n",
              "      <td>0</td>\n",
              "      <td>0</td>\n",
              "      <td>0</td>\n",
              "      <td>0</td>\n",
              "      <td>0</td>\n",
              "      <td>0</td>\n",
              "      <td>0</td>\n",
              "      <td>0</td>\n",
              "      <td>0</td>\n",
              "    </tr>\n",
              "  </tbody>\n",
              "</table>\n",
              "<p>5 rows × 785 columns</p>\n",
              "</div>"
            ],
            "text/plain": [
              "   label  pixel0  pixel1  pixel2  pixel3  pixel4  pixel5  pixel6  pixel7  \\\n",
              "0      1       0       0       0       0       0       0       0       0   \n",
              "1      0       0       0       0       0       0       0       0       0   \n",
              "2      1       0       0       0       0       0       0       0       0   \n",
              "3      4       0       0       0       0       0       0       0       0   \n",
              "4      0       0       0       0       0       0       0       0       0   \n",
              "\n",
              "   pixel8  ...  pixel774  pixel775  pixel776  pixel777  pixel778  pixel779  \\\n",
              "0       0  ...         0         0         0         0         0         0   \n",
              "1       0  ...         0         0         0         0         0         0   \n",
              "2       0  ...         0         0         0         0         0         0   \n",
              "3       0  ...         0         0         0         0         0         0   \n",
              "4       0  ...         0         0         0         0         0         0   \n",
              "\n",
              "   pixel780  pixel781  pixel782  pixel783  \n",
              "0         0         0         0         0  \n",
              "1         0         0         0         0  \n",
              "2         0         0         0         0  \n",
              "3         0         0         0         0  \n",
              "4         0         0         0         0  \n",
              "\n",
              "[5 rows x 785 columns]"
            ]
          },
          "execution_count": 55,
          "metadata": {},
          "output_type": "execute_result"
        }
      ],
      "source": [
        "data.head()"
      ]
    },
    {
      "cell_type": "code",
      "execution_count": 56,
      "metadata": {},
      "outputs": [
        {
          "data": {
            "text/plain": [
              "(42000, 785)"
            ]
          },
          "execution_count": 56,
          "metadata": {},
          "output_type": "execute_result"
        }
      ],
      "source": [
        "data.shape"
      ]
    },
    {
      "cell_type": "code",
      "execution_count": 57,
      "metadata": {},
      "outputs": [
        {
          "data": {
            "text/plain": [
              "Index(['label', 'pixel0', 'pixel1', 'pixel2', 'pixel3', 'pixel4', 'pixel5',\n",
              "       'pixel6', 'pixel7', 'pixel8'],\n",
              "      dtype='object')"
            ]
          },
          "execution_count": 57,
          "metadata": {},
          "output_type": "execute_result"
        }
      ],
      "source": [
        "data.columns[:10]"
      ]
    },
    {
      "cell_type": "code",
      "execution_count": 58,
      "metadata": {},
      "outputs": [
        {
          "data": {
            "text/plain": [
              "label       0\n",
              "pixel0      0\n",
              "pixel1      0\n",
              "pixel2      0\n",
              "pixel3      0\n",
              "           ..\n",
              "pixel779    0\n",
              "pixel780    0\n",
              "pixel781    0\n",
              "pixel782    0\n",
              "pixel783    0\n",
              "Length: 785, dtype: int64"
            ]
          },
          "execution_count": 58,
          "metadata": {},
          "output_type": "execute_result"
        }
      ],
      "source": [
        "data.isnull().sum()"
      ]
    },
    {
      "cell_type": "code",
      "execution_count": 59,
      "metadata": {},
      "outputs": [
        {
          "data": {
            "text/html": [
              "<div>\n",
              "<style scoped>\n",
              "    .dataframe tbody tr th:only-of-type {\n",
              "        vertical-align: middle;\n",
              "    }\n",
              "\n",
              "    .dataframe tbody tr th {\n",
              "        vertical-align: top;\n",
              "    }\n",
              "\n",
              "    .dataframe thead th {\n",
              "        text-align: right;\n",
              "    }\n",
              "</style>\n",
              "<table border=\"1\" class=\"dataframe\">\n",
              "  <thead>\n",
              "    <tr style=\"text-align: right;\">\n",
              "      <th></th>\n",
              "      <th>label</th>\n",
              "      <th>pixel0</th>\n",
              "      <th>pixel1</th>\n",
              "      <th>pixel2</th>\n",
              "      <th>pixel3</th>\n",
              "      <th>pixel4</th>\n",
              "      <th>pixel5</th>\n",
              "      <th>pixel6</th>\n",
              "      <th>pixel7</th>\n",
              "      <th>pixel8</th>\n",
              "      <th>...</th>\n",
              "      <th>pixel774</th>\n",
              "      <th>pixel775</th>\n",
              "      <th>pixel776</th>\n",
              "      <th>pixel777</th>\n",
              "      <th>pixel778</th>\n",
              "      <th>pixel779</th>\n",
              "      <th>pixel780</th>\n",
              "      <th>pixel781</th>\n",
              "      <th>pixel782</th>\n",
              "      <th>pixel783</th>\n",
              "    </tr>\n",
              "  </thead>\n",
              "  <tbody>\n",
              "    <tr>\n",
              "      <th>count</th>\n",
              "      <td>42000.000000</td>\n",
              "      <td>42000.0</td>\n",
              "      <td>42000.0</td>\n",
              "      <td>42000.0</td>\n",
              "      <td>42000.0</td>\n",
              "      <td>42000.0</td>\n",
              "      <td>42000.0</td>\n",
              "      <td>42000.0</td>\n",
              "      <td>42000.0</td>\n",
              "      <td>42000.0</td>\n",
              "      <td>...</td>\n",
              "      <td>42000.000000</td>\n",
              "      <td>42000.000000</td>\n",
              "      <td>42000.000000</td>\n",
              "      <td>42000.00000</td>\n",
              "      <td>42000.000000</td>\n",
              "      <td>42000.000000</td>\n",
              "      <td>42000.0</td>\n",
              "      <td>42000.0</td>\n",
              "      <td>42000.0</td>\n",
              "      <td>42000.0</td>\n",
              "    </tr>\n",
              "    <tr>\n",
              "      <th>mean</th>\n",
              "      <td>4.456643</td>\n",
              "      <td>0.0</td>\n",
              "      <td>0.0</td>\n",
              "      <td>0.0</td>\n",
              "      <td>0.0</td>\n",
              "      <td>0.0</td>\n",
              "      <td>0.0</td>\n",
              "      <td>0.0</td>\n",
              "      <td>0.0</td>\n",
              "      <td>0.0</td>\n",
              "      <td>...</td>\n",
              "      <td>0.219286</td>\n",
              "      <td>0.117095</td>\n",
              "      <td>0.059024</td>\n",
              "      <td>0.02019</td>\n",
              "      <td>0.017238</td>\n",
              "      <td>0.002857</td>\n",
              "      <td>0.0</td>\n",
              "      <td>0.0</td>\n",
              "      <td>0.0</td>\n",
              "      <td>0.0</td>\n",
              "    </tr>\n",
              "    <tr>\n",
              "      <th>std</th>\n",
              "      <td>2.887730</td>\n",
              "      <td>0.0</td>\n",
              "      <td>0.0</td>\n",
              "      <td>0.0</td>\n",
              "      <td>0.0</td>\n",
              "      <td>0.0</td>\n",
              "      <td>0.0</td>\n",
              "      <td>0.0</td>\n",
              "      <td>0.0</td>\n",
              "      <td>0.0</td>\n",
              "      <td>...</td>\n",
              "      <td>6.312890</td>\n",
              "      <td>4.633819</td>\n",
              "      <td>3.274488</td>\n",
              "      <td>1.75987</td>\n",
              "      <td>1.894498</td>\n",
              "      <td>0.414264</td>\n",
              "      <td>0.0</td>\n",
              "      <td>0.0</td>\n",
              "      <td>0.0</td>\n",
              "      <td>0.0</td>\n",
              "    </tr>\n",
              "    <tr>\n",
              "      <th>min</th>\n",
              "      <td>0.000000</td>\n",
              "      <td>0.0</td>\n",
              "      <td>0.0</td>\n",
              "      <td>0.0</td>\n",
              "      <td>0.0</td>\n",
              "      <td>0.0</td>\n",
              "      <td>0.0</td>\n",
              "      <td>0.0</td>\n",
              "      <td>0.0</td>\n",
              "      <td>0.0</td>\n",
              "      <td>...</td>\n",
              "      <td>0.000000</td>\n",
              "      <td>0.000000</td>\n",
              "      <td>0.000000</td>\n",
              "      <td>0.00000</td>\n",
              "      <td>0.000000</td>\n",
              "      <td>0.000000</td>\n",
              "      <td>0.0</td>\n",
              "      <td>0.0</td>\n",
              "      <td>0.0</td>\n",
              "      <td>0.0</td>\n",
              "    </tr>\n",
              "    <tr>\n",
              "      <th>25%</th>\n",
              "      <td>2.000000</td>\n",
              "      <td>0.0</td>\n",
              "      <td>0.0</td>\n",
              "      <td>0.0</td>\n",
              "      <td>0.0</td>\n",
              "      <td>0.0</td>\n",
              "      <td>0.0</td>\n",
              "      <td>0.0</td>\n",
              "      <td>0.0</td>\n",
              "      <td>0.0</td>\n",
              "      <td>...</td>\n",
              "      <td>0.000000</td>\n",
              "      <td>0.000000</td>\n",
              "      <td>0.000000</td>\n",
              "      <td>0.00000</td>\n",
              "      <td>0.000000</td>\n",
              "      <td>0.000000</td>\n",
              "      <td>0.0</td>\n",
              "      <td>0.0</td>\n",
              "      <td>0.0</td>\n",
              "      <td>0.0</td>\n",
              "    </tr>\n",
              "    <tr>\n",
              "      <th>50%</th>\n",
              "      <td>4.000000</td>\n",
              "      <td>0.0</td>\n",
              "      <td>0.0</td>\n",
              "      <td>0.0</td>\n",
              "      <td>0.0</td>\n",
              "      <td>0.0</td>\n",
              "      <td>0.0</td>\n",
              "      <td>0.0</td>\n",
              "      <td>0.0</td>\n",
              "      <td>0.0</td>\n",
              "      <td>...</td>\n",
              "      <td>0.000000</td>\n",
              "      <td>0.000000</td>\n",
              "      <td>0.000000</td>\n",
              "      <td>0.00000</td>\n",
              "      <td>0.000000</td>\n",
              "      <td>0.000000</td>\n",
              "      <td>0.0</td>\n",
              "      <td>0.0</td>\n",
              "      <td>0.0</td>\n",
              "      <td>0.0</td>\n",
              "    </tr>\n",
              "    <tr>\n",
              "      <th>75%</th>\n",
              "      <td>7.000000</td>\n",
              "      <td>0.0</td>\n",
              "      <td>0.0</td>\n",
              "      <td>0.0</td>\n",
              "      <td>0.0</td>\n",
              "      <td>0.0</td>\n",
              "      <td>0.0</td>\n",
              "      <td>0.0</td>\n",
              "      <td>0.0</td>\n",
              "      <td>0.0</td>\n",
              "      <td>...</td>\n",
              "      <td>0.000000</td>\n",
              "      <td>0.000000</td>\n",
              "      <td>0.000000</td>\n",
              "      <td>0.00000</td>\n",
              "      <td>0.000000</td>\n",
              "      <td>0.000000</td>\n",
              "      <td>0.0</td>\n",
              "      <td>0.0</td>\n",
              "      <td>0.0</td>\n",
              "      <td>0.0</td>\n",
              "    </tr>\n",
              "    <tr>\n",
              "      <th>max</th>\n",
              "      <td>9.000000</td>\n",
              "      <td>0.0</td>\n",
              "      <td>0.0</td>\n",
              "      <td>0.0</td>\n",
              "      <td>0.0</td>\n",
              "      <td>0.0</td>\n",
              "      <td>0.0</td>\n",
              "      <td>0.0</td>\n",
              "      <td>0.0</td>\n",
              "      <td>0.0</td>\n",
              "      <td>...</td>\n",
              "      <td>254.000000</td>\n",
              "      <td>254.000000</td>\n",
              "      <td>253.000000</td>\n",
              "      <td>253.00000</td>\n",
              "      <td>254.000000</td>\n",
              "      <td>62.000000</td>\n",
              "      <td>0.0</td>\n",
              "      <td>0.0</td>\n",
              "      <td>0.0</td>\n",
              "      <td>0.0</td>\n",
              "    </tr>\n",
              "  </tbody>\n",
              "</table>\n",
              "<p>8 rows × 785 columns</p>\n",
              "</div>"
            ],
            "text/plain": [
              "              label   pixel0   pixel1   pixel2   pixel3   pixel4   pixel5  \\\n",
              "count  42000.000000  42000.0  42000.0  42000.0  42000.0  42000.0  42000.0   \n",
              "mean       4.456643      0.0      0.0      0.0      0.0      0.0      0.0   \n",
              "std        2.887730      0.0      0.0      0.0      0.0      0.0      0.0   \n",
              "min        0.000000      0.0      0.0      0.0      0.0      0.0      0.0   \n",
              "25%        2.000000      0.0      0.0      0.0      0.0      0.0      0.0   \n",
              "50%        4.000000      0.0      0.0      0.0      0.0      0.0      0.0   \n",
              "75%        7.000000      0.0      0.0      0.0      0.0      0.0      0.0   \n",
              "max        9.000000      0.0      0.0      0.0      0.0      0.0      0.0   \n",
              "\n",
              "        pixel6   pixel7   pixel8  ...      pixel774      pixel775  \\\n",
              "count  42000.0  42000.0  42000.0  ...  42000.000000  42000.000000   \n",
              "mean       0.0      0.0      0.0  ...      0.219286      0.117095   \n",
              "std        0.0      0.0      0.0  ...      6.312890      4.633819   \n",
              "min        0.0      0.0      0.0  ...      0.000000      0.000000   \n",
              "25%        0.0      0.0      0.0  ...      0.000000      0.000000   \n",
              "50%        0.0      0.0      0.0  ...      0.000000      0.000000   \n",
              "75%        0.0      0.0      0.0  ...      0.000000      0.000000   \n",
              "max        0.0      0.0      0.0  ...    254.000000    254.000000   \n",
              "\n",
              "           pixel776     pixel777      pixel778      pixel779  pixel780  \\\n",
              "count  42000.000000  42000.00000  42000.000000  42000.000000   42000.0   \n",
              "mean       0.059024      0.02019      0.017238      0.002857       0.0   \n",
              "std        3.274488      1.75987      1.894498      0.414264       0.0   \n",
              "min        0.000000      0.00000      0.000000      0.000000       0.0   \n",
              "25%        0.000000      0.00000      0.000000      0.000000       0.0   \n",
              "50%        0.000000      0.00000      0.000000      0.000000       0.0   \n",
              "75%        0.000000      0.00000      0.000000      0.000000       0.0   \n",
              "max      253.000000    253.00000    254.000000     62.000000       0.0   \n",
              "\n",
              "       pixel781  pixel782  pixel783  \n",
              "count   42000.0   42000.0   42000.0  \n",
              "mean        0.0       0.0       0.0  \n",
              "std         0.0       0.0       0.0  \n",
              "min         0.0       0.0       0.0  \n",
              "25%         0.0       0.0       0.0  \n",
              "50%         0.0       0.0       0.0  \n",
              "75%         0.0       0.0       0.0  \n",
              "max         0.0       0.0       0.0  \n",
              "\n",
              "[8 rows x 785 columns]"
            ]
          },
          "execution_count": 59,
          "metadata": {},
          "output_type": "execute_result"
        }
      ],
      "source": [
        "data.describe()"
      ]
    },
    {
      "cell_type": "code",
      "execution_count": 60,
      "metadata": {},
      "outputs": [
        {
          "data": {
            "text/plain": [
              "np.False_"
            ]
          },
          "execution_count": 60,
          "metadata": {},
          "output_type": "execute_result"
        }
      ],
      "source": [
        "data.duplicated().any()"
      ]
    },
    {
      "cell_type": "code",
      "execution_count": null,
      "metadata": {},
      "outputs": [
        {
          "data": {
            "image/png": "[encoded data removed]",
            "text/plain": [
              "<Figure size 640x480 with 1 Axes>"
            ]
          },
          "metadata": {},
          "output_type": "display_data"
        }
      ],
      "source": [
        "# Label Distribution\n",
        "#To understand the distribution of pixel intensities across the entire dataset.\n",
        "#Check if most pixels are white (value near 0) or black (value near 255), and how many pixels have different\n",
        "#  intensity levels. This helps in understanding the spread of values.\n",
        "import seaborn as sns\n",
        "import matplotlib.pyplot as plt\n",
        "\n",
        "sns.countplot(x=data['label'])\n",
        "plt.title(\"Distribution of Digits\")\n",
        "plt.xlabel(\"Digit Class\")\n",
        "plt.ylabel(\"Frequency\")\n",
        "plt.show()\n"
      ]
    },
    {
      "cell_type": "code",
      "execution_count": null,
      "metadata": {},
      "outputs": [
        {
          "data": {
            "image/png": "[encoded data removed]",
            "text/plain": [
              "<Figure size 640x480 with 10 Axes>"
            ]
          },
          "metadata": {},
          "output_type": "display_data"
        }
      ],
      "source": [
        "#. Visualizing Sample Digits\n",
        "#To visually verify that the images are correctly labeled and represent the corresponding digit.\n",
        "import matplotlib.pyplot as plt\n",
        "\n",
        "for i in range(10):\n",
        "    img = data[data['label'] == i].iloc[0, 1:].values.reshape(28, 28)\n",
        "    plt.subplot(2, 5, i + 1)\n",
        "    plt.imshow(img, cmap='gray')\n",
        "    plt.title(f'Digit {i}')\n",
        "    plt.axis('off')\n",
        "\n",
        "plt.suptitle(\"Sample Images from Each Class\")\n",
        "plt.show()\n"
      ]
    },
    {
      "cell_type": "code",
      "execution_count": null,
      "metadata": {},
      "outputs": [
        {
          "data": {
            "image/png": "[encoded data removed]",
            "text/plain": [
              "<Figure size 640x480 with 1 Axes>"
            ]
          },
          "metadata": {},
          "output_type": "display_data"
        }
      ],
      "source": [
        "#Pixel Value Distribution\n",
        "#To check the distribution of the target classes (digits 0–9) in the dataset.\n",
        "# Determine if the dataset is balanced or imbalanced across the different digit classes. \n",
        "# Imbalanced datasets can cause model biases toward more frequent classes.\n",
        "pixels = data.drop('label', axis=1).values.flatten()\n",
        "sns.histplot(pixels, bins=50, kde=True)\n",
        "plt.title(\"Pixel Intensity Distribution\")\n",
        "plt.xlabel(\"Pixel Value\")\n",
        "plt.ylabel(\"Frequency\")\n",
        "plt.show()\n"
      ]
    },
    {
      "cell_type": "code",
      "execution_count": 67,
      "metadata": {},
      "outputs": [],
      "source": [
        "# Separate the features (pixel values) and the labels (targets)\n",
        "X = data.drop('label', axis=1).values  # Remove the label column to get features only\n",
        "Y = data['label'].values               # Extract only the label column"
      ]
    },
    {
      "cell_type": "code",
      "execution_count": 68,
      "metadata": {},
      "outputs": [
        {
          "name": "stdout",
          "output_type": "stream",
          "text": [
            "Data shape (with labels): (42000, 785)\n"
          ]
        }
      ],
      "source": [
        "# Convert to NumPy array (if not already)\n",
        "data = np.array(data)\n",
        "\n",
        "# Get number of rows (examples) and columns (features + label)\n",
        "m, n = data.shape\n",
        "print(\"Data shape (with labels):\", data.shape)"
      ]
    },
    {
      "cell_type": "code",
      "execution_count": 69,
      "metadata": {},
      "outputs": [],
      "source": [
        "# Shuffle the data randomly to avoid any order bias\n",
        "np.random.shuffle(data)"
      ]
    },
    {
      "cell_type": "code",
      "execution_count": 70,
      "metadata": {},
      "outputs": [],
      "source": [
        "# Split test data (first 1000 examples)\n",
        "data_test = data[0:1000].T         # Transpose to shape: (features, examples)\n",
        "Y_test = data_test[0]              # First row is labels\n",
        "X_test = data_test[1:n]            # Remaining rows are pixel data\n",
        "X_test = X_test / 255.             # Normalize pixel values to [0"
      ]
    },
    {
      "cell_type": "code",
      "execution_count": 71,
      "metadata": {},
      "outputs": [],
      "source": [
        "# Split training data (remaining examples)\n",
        "data_train = data[1000:m].T        # Transpose training data\n",
        "Y_train = data_train[0]            # First row is labels\n",
        "X_train = data_train[1:n]          # Remaining rows are pixel data\n",
        "X_train = X_train / 255.           # Normalize training pixel values"
      ]
    },
    {
      "cell_type": "code",
      "execution_count": 72,
      "metadata": {
        "colab": {
          "base_uri": "https://localhost:8080/"
        },
        "id": "cL4CV-NQ005r",
        "outputId": "fcb1e9b4-35df-41a4-cbe4-899e4dfa04ec"
      },
      "outputs": [
        {
          "name": "stdout",
          "output_type": "stream",
          "text": [
            "x training samples(784, 41000)\n",
            "x testing samples(784, 1000)\n",
            "Y training samples(41000,)\n",
            "Y testing samples(1000,)\n"
          ]
        }
      ],
      "source": [
        "print(f'x training samples{X_train.shape}')\n",
        "print(f'x testing samples{X_test.shape}')\n",
        "print(f'Y training samples{Y_train.shape}')\n",
        "print(f'Y testing samples{Y_test.shape}')"
      ]
    },
    {
      "cell_type": "code",
      "execution_count": 74,
      "metadata": {
        "id": "oCAYeoTif6ya",
        "trusted": true
      },
      "outputs": [
        {
          "name": "stdout",
          "output_type": "stream",
          "text": [
            "Iteration 100, Loss: 1.35716, Accuracy: 0.5548\n",
            "Iteration 200, Loss: 0.70702, Accuracy: 0.7762\n",
            "Iteration 300, Loss: 0.50674, Accuracy: 0.8456\n",
            "Iteration 400, Loss: 0.42041, Accuracy: 0.8753\n",
            "Iteration 500, Loss: 0.37213, Accuracy: 0.8913\n",
            "Iteration 600, Loss: 0.34022, Accuracy: 0.9012\n",
            "Iteration 700, Loss: 0.31716, Accuracy: 0.9083\n",
            "Iteration 800, Loss: 0.29950, Accuracy: 0.9131\n",
            "Iteration 900, Loss: 0.28558, Accuracy: 0.9174\n",
            "Iteration 1000, Loss: 0.27431, Accuracy: 0.9201\n"
          ]
        }
      ],
      "source": [
        "def init_params():\n",
        "    W1 = np.random.rand(10, 784) - 0.5\n",
        "    b1 = np.random.rand(10, 1) - 0.5\n",
        "    W2 = np.random.rand(10, 10) - 0.5\n",
        "    b2 = np.random.rand(10, 1) - 0.5\n",
        "    return W1, b1, W2, b2\n",
        "\n",
        "def ReLU(Z):\n",
        "    return np.maximum(Z, 0)\n",
        "\n",
        "def softmax(Z):\n",
        "    A = np.exp(Z) / sum(np.exp(Z))\n",
        "    return A\n",
        "\n",
        "def forward_prop(W1, b1, W2, b2, X):\n",
        "    Z1 = W1.dot(X) + b1\n",
        "    A1 = ReLU(Z1)\n",
        "    Z2 = W2.dot(A1) + b2\n",
        "    A2 = softmax(Z2)\n",
        "    return Z1, A1, Z2, A2\n",
        "\n",
        "def ReLU_deriv(Z):\n",
        "    return Z > 0\n",
        "\n",
        "def one_hot(Y):\n",
        "    one_hot_Y = np.zeros((Y.size, Y.max() + 1))\n",
        "    one_hot_Y[np.arange(Y.size), Y] = 1\n",
        "    one_hot_Y = one_hot_Y.T\n",
        "    return one_hot_Y\n",
        "\n",
        "def backward_prop(Z1, A1, Z2, A2, W1, W2, X, Y):\n",
        "    one_hot_Y = one_hot(Y)\n",
        "    dZ2 = A2 - one_hot_Y\n",
        "    dW2 = 1 / m * dZ2.dot(A1.T)\n",
        "    db2 = 1 / m * np.sum(dZ2)\n",
        "    dZ1 = W2.T.dot(dZ2) * ReLU_deriv(Z1)\n",
        "    dW1 = 1 / m * dZ1.dot(X.T)\n",
        "    db1 = 1 / m * np.sum(dZ1)\n",
        "    return dW1, db1, dW2, db2\n",
        "def adam_update(params, grads, v, s, t, learning_rate=0.001, beta1=0.9, beta2=0.999, epsilon=1e-8):\n",
        "    updated_params = []\n",
        "    for i, (param, grad) in enumerate(zip(params, grads)):\n",
        "        v[i] = beta1 * v[i] + (1 - beta1) * grad\n",
        "        s[i] = beta2 * s[i] + (1 - beta2) * (grad ** 2)\n",
        "        v_corrected = v[i] / (1 - beta1 ** t)\n",
        "        s_corrected = s[i] / (1 - beta2 ** t)\n",
        "        param -= learning_rate * v_corrected / (np.sqrt(s_corrected) + epsilon)\n",
        "        updated_params.append(param)\n",
        "    return updated_params, v, s\n",
        "\n",
        "def get_predictions(A2):\n",
        "    return np.argmax(A2, 0)\n",
        "\n",
        "def get_accuracy(predictions, Y):\n",
        "    return np.sum(predictions == Y) / Y.size\n",
        "\n",
        "# Training with Adam optimizer\n",
        "def train_adam(X, Y, iterations=1000, alpha=0.001):\n",
        "    W1, b1, W2, b2 = init_params()\n",
        "    v = [np.zeros_like(W1), np.zeros_like(b1), np.zeros_like(W2), np.zeros_like(b2)]\n",
        "    s = [np.zeros_like(W1), np.zeros_like(b1), np.zeros_like(W2), np.zeros_like(b2)]\n",
        "    loss_history = []\n",
        "\n",
        "    for t in range(1, iterations + 1):\n",
        "        Z1, A1, Z2, A2 = forward_prop(W1, b1, W2, b2, X)\n",
        "        loss = -np.mean(np.log(A2[Y.astype(int), range(Y.size)]))\n",
        "        loss_history.append(loss)\n",
        "        dW1, db1, dW2, db2 = backward_prop(Z1, A1, Z2, A2, W1, W2, X, Y)\n",
        "        grads = [dW1, db1, dW2, db2]\n",
        "        [W1, b1, W2, b2], v, s = adam_update([W1, b1, W2, b2], grads, v, s, t, learning_rate=alpha)\n",
        "        if t % 100 == 0:\n",
        "            predictions = get_predictions(A2)\n",
        "            acc = get_accuracy(predictions, Y)\n",
        "            print(f\"Iteration {t}, Loss: {loss:.5f}, Accuracy: {acc:.4f}\")\n",
        "\n",
        "    return W1, b1, W2, b2, loss_history\n",
        "\n",
        "W1, b1, W2, b2, loss_history = train_adam(X_train, Y_train, iterations=1000, alpha=0.001)\n",
        "\n",
        "\n",
        "def update_params(W1, b1, W2, b2, dW1, db1, dW2, db2, alpha):\n",
        "    W1 = W1 - alpha * dW1\n",
        "    b1 = b1 - alpha * db1\n",
        "    W2 = W2 - alpha * dW2\n",
        "    b2 = b2 - alpha * db2\n",
        "    return W1, b1, W2, b2"
      ]
    },
    {
      "cell_type": "code",
      "execution_count": 75,
      "metadata": {
        "id": "6d3HeTppf6yb",
        "trusted": true
      },
      "outputs": [],
      "source": [
        "def get_predictions(A2):\n",
        "    return np.argmax(A2, 0)\n",
        "\n",
        "def get_accuracy(predictions, Y):\n",
        "    print(predictions, Y)\n",
        "    return np.sum(predictions == Y) / Y.size\n",
        "\n",
        "def gradient_descent(X, Y, alpha, iterations):\n",
        "    W1, b1, W2, b2 = init_params()\n",
        "    for i in range(iterations):\n",
        "        Z1, A1, Z2, A2 = forward_prop(W1, b1, W2, b2, X)\n",
        "        dW1, db1, dW2, db2 = backward_prop(Z1, A1, Z2, A2, W1, W2, X, Y)\n",
        "        W1, b1, W2, b2 = update_params(W1, b1, W2, b2, dW1, db1, dW2, db2, alpha)\n",
        "        if i % 100 == 0:\n",
        "            print(\"Iteration: \", i)\n",
        "            predictions = get_predictions(A2)\n",
        "            print(get_accuracy(predictions, Y))\n",
        "    return W1, b1, W2, b2"
      ]
    },
    {
      "cell_type": "code",
      "execution_count": 76,
      "metadata": {
        "colab": {
          "base_uri": "https://localhost:8080/"
        },
        "id": "S2qmKtfmf6yb",
        "outputId": "ef0740a9-1aae-49d7-c968-a3da6c50de43",
        "trusted": true
      },
      "outputs": [
        {
          "name": "stdout",
          "output_type": "stream",
          "text": [
            "Iteration:  0\n",
            "[3 4 9 ... 1 1 9] [1 7 2 ... 2 4 2]\n",
            "0.06619512195121952\n",
            "Iteration:  100\n",
            "[1 0 1 ... 2 4 2] [1 7 2 ... 2 4 2]\n",
            "0.5192682926829268\n",
            "Iteration:  200\n",
            "[1 7 1 ... 2 4 2] [1 7 2 ... 2 4 2]\n",
            "0.7301951219512195\n",
            "Iteration:  300\n",
            "[1 7 2 ... 2 4 2] [1 7 2 ... 2 4 2]\n",
            "0.7918048780487805\n",
            "Iteration:  400\n",
            "[1 7 2 ... 2 4 2] [1 7 2 ... 2 4 2]\n",
            "0.8217317073170731\n",
            "Iteration:  500\n",
            "[1 7 2 ... 2 4 2] [1 7 2 ... 2 4 2]\n",
            "0.8368048780487805\n",
            "Iteration:  600\n",
            "[1 7 2 ... 2 4 2] [1 7 2 ... 2 4 2]\n",
            "0.8480243902439024\n",
            "Iteration:  700\n",
            "[1 7 2 ... 2 4 2] [1 7 2 ... 2 4 2]\n",
            "0.8561463414634146\n",
            "Iteration:  800\n",
            "[1 7 2 ... 2 4 2] [1 7 2 ... 2 4 2]\n",
            "0.8615121951219512\n",
            "Iteration:  900\n",
            "[1 7 2 ... 2 4 2] [1 7 2 ... 2 4 2]\n",
            "0.8672439024390244\n"
          ]
        }
      ],
      "source": [
        "W1, b1, W2, b2 = gradient_descent(X_train, Y_train, 0.1, 1000)\n",
        "#first learning rate = 0.01 and the acc through 500 iteration was 0.44\n",
        "# so we will increae the number of iter = 1000 and the learning rate to 0.1 to be faster and also monitoring the acc"
      ]
    },
    {
      "cell_type": "code",
      "execution_count": 28,
      "metadata": {
        "id": "4w0VbLXFf6yb",
        "trusted": true
      },
      "outputs": [],
      "source": [
        "def make_predictions(X, W1, b1, W2, b2):\n",
        "    _, _, _, A2 = forward_prop(W1, b1, W2, b2, X)\n",
        "    predictions = get_predictions(A2)\n",
        "    return predictions\n",
        "\n",
        "def test_prediction(index, W1, b1, W2, b2):\n",
        "    current_image = X_train[:, index, None]\n",
        "    prediction = make_predictions(X_train[:, index, None], W1, b1, W2, b2)\n",
        "    label = Y_train[index]\n",
        "    print(\"Prediction: \", prediction)\n",
        "    print(\"Label: \", label)\n",
        "\n",
        "    current_image = current_image.reshape((28, 28)) * 255\n",
        "    plt.gray()\n",
        "    plt.imshow(current_image, interpolation='nearest')\n",
        "    plt.show()"
      ]
    },
    {
      "cell_type": "markdown",
      "metadata": {
        "id": "HH_RUxYcf6yb"
      },
      "source": [
        "Let's look at a couple of examples:"
      ]
    },
    {
      "cell_type": "code",
      "execution_count": 29,
      "metadata": {
        "colab": {
          "base_uri": "https://localhost:8080/",
          "height": 1000
        },
        "id": "QtxRdbCXf6yb",
        "outputId": "c058ef8a-3bf5-499b-dd1f-63ee145e3698",
        "trusted": true
      },
      "outputs": [
        {
          "name": "stdout",
          "output_type": "stream",
          "text": [
            "Prediction:  [0]\n",
            "Label:  0\n"
          ]
        },
        {
          "data": {
            "image/png": "[encoded data removed]",
            "text/plain": [
              "<Figure size 640x480 with 1 Axes>"
            ]
          },
          "metadata": {},
          "output_type": "display_data"
        },
        {
          "name": "stdout",
          "output_type": "stream",
          "text": [
            "Prediction:  [1]\n",
            "Label:  1\n"
          ]
        },
        {
          "data": {
            "image/png": "[encoded data removed]",
            "text/plain": [
              "<Figure size 640x480 with 1 Axes>"
            ]
          },
          "metadata": {},
          "output_type": "display_data"
        },
        {
          "name": "stdout",
          "output_type": "stream",
          "text": [
            "Prediction:  [4]\n",
            "Label:  4\n"
          ]
        },
        {
          "data": {
            "image/png": "[encoded data removed]",
            "text/plain": [
              "<Figure size 640x480 with 1 Axes>"
            ]
          },
          "metadata": {},
          "output_type": "display_data"
        },
        {
          "name": "stdout",
          "output_type": "stream",
          "text": [
            "Prediction:  [1]\n",
            "Label:  1\n"
          ]
        },
        {
          "data": {
            "image/png": "[encoded data removed]",
            "text/plain": [
              "<Figure size 640x480 with 1 Axes>"
            ]
          },
          "metadata": {},
          "output_type": "display_data"
        }
      ],
      "source": [
        "test_prediction(0, W1, b1, W2, b2)\n",
        "test_prediction(1, W1, b1, W2, b2)\n",
        "test_prediction(2, W1, b1, W2, b2)\n",
        "test_prediction(3, W1, b1, W2, b2)"
      ]
    },
    {
      "cell_type": "markdown",
      "metadata": {},
      "source": [
        "Finally, let's find the accuracy on the dev set:"
      ]
    },
    {
      "cell_type": "code",
      "execution_count": 30,
      "metadata": {
        "colab": {
          "base_uri": "https://localhost:8080/"
        },
        "id": "LQ2BDGgUf6yb",
        "outputId": "ad4fa488-88b4-4621-e9d5-89e44be628b8",
        "trusted": true
      },
      "outputs": [
        {
          "name": "stdout",
          "output_type": "stream",
          "text": [
            "[4 0 8 1 3 8 7 3 7 5 4 2 3 6 4 7 3 9 6 6 3 3 0 4 1 9 8 5 1 7 4 9 4 8 4 1 1\n",
            " 4 1 4 8 1 2 8 9 5 7 5 5 7 8 2 7 0 0 8 8 6 8 1 3 4 3 0 7 8 4 9 5 7 2 4 1 5\n",
            " 6 8 8 9 8 1 4 8 4 0 0 9 9 9 6 5 4 6 8 1 8 4 8 8 6 5 3 5 1 7 2 5 6 3 5 6 4\n",
            " 7 6 2 9 9 3 3 8 1 1 6 2 2 6 0 9 6 9 2 5 2 8 2 4 2 1 4 5 5 3 1 4 0 4 6 6 7\n",
            " 6 3 4 6 9 1 3 6 9 1 0 5 9 5 6 2 7 8 8 7 0 3 4 9 3 5 0 2 7 3 0 9 0 0 6 7 7\n",
            " 7 1 4 7 4 6 3 5 5 9 8 7 9 7 2 7 5 0 2 6 3 8 4 9 7 3 0 7 9 0 2 2 9 7 0 4 9\n",
            " 4 1 5 2 7 3 7 3 3 7 7 3 3 5 7 6 4 4 7 5 2 8 5 7 9 8 0 1 0 7 4 3 0 7 4 3 7\n",
            " 4 9 2 7 7 7 7 5 5 6 6 3 1 5 5 6 2 1 9 1 3 9 4 5 9 9 4 4 6 8 0 6 6 5 4 7 3\n",
            " 9 9 3 2 9 9 0 9 7 6 5 8 1 7 2 7 0 1 9 5 8 9 6 4 4 3 3 4 4 3 2 7 3 9 9 7 8\n",
            " 5 3 7 0 5 2 7 2 3 9 2 3 8 6 1 1 6 3 2 2 5 6 8 4 8 2 2 6 1 2 1 7 3 8 1 6 9\n",
            " 6 7 3 2 5 2 4 8 4 2 6 9 8 1 0 4 2 9 4 9 2 7 5 7 0 4 8 0 1 6 8 5 9 1 4 1 4\n",
            " 7 7 1 1 6 6 8 0 2 6 4 2 8 8 3 8 9 0 1 1 4 4 2 7 9 4 3 0 2 1 5 3 0 3 6 5 6\n",
            " 2 0 3 1 7 8 9 0 4 5 8 2 7 9 4 1 2 2 3 4 0 2 0 9 5 7 7 8 6 9 9 1 8 2 9 0 2\n",
            " 3 5 1 9 2 0 7 8 6 9 4 2 8 0 1 6 7 4 9 4 3 2 9 9 5 4 9 0 9 0 1 4 3 2 6 4 6\n",
            " 1 4 1 0 8 1 5 6 8 8 1 9 2 0 0 4 8 0 8 0 5 5 6 4 4 4 6 5 3 3 5 6 6 3 0 9 9\n",
            " 4 4 8 5 6 2 1 2 1 9 8 4 0 8 5 7 4 1 3 8 8 8 2 1 0 2 2 8 4 3 5 7 4 7 2 2 3\n",
            " 3 8 0 9 5 0 7 3 2 0 9 5 4 2 2 7 3 7 2 7 2 5 6 3 8 8 4 6 7 6 7 7 1 8 6 2 7\n",
            " 3 9 9 3 3 2 0 8 8 5 1 8 7 6 4 6 3 9 4 2 8 3 9 8 2 1 8 1 4 2 7 1 1 0 2 4 5\n",
            " 1 9 5 9 4 3 9 8 4 1 9 4 6 7 8 4 8 8 8 6 0 9 3 8 6 3 0 0 9 2 0 6 8 2 0 4 5\n",
            " 7 6 4 2 8 0 1 4 4 2 8 0 7 5 5 0 1 4 7 9 6 1 9 0 0 9 0 8 0 3 6 7 6 0 2 2 0\n",
            " 1 4 1 6 0 0 4 9 6 6 2 6 2 0 3 0 8 2 1 3 1 5 8 7 0 2 3 8 8 7 7 7 4 2 7 0 7\n",
            " 9 0 1 5 7 8 2 5 0 0 5 9 5 1 3 2 0 9 5 7 8 7 0 8 8 3 3 7 8 9 5 0 3 5 9 6 7\n",
            " 6 6 6 0 9 4 5 3 4 6 3 1 7 6 8 9 6 8 9 7 4 1 8 0 8 2 2 2 1 2 7 1 4 9 6 9 8\n",
            " 0 1 4 4 3 0 6 6 2 8 0 8 3 2 9 7 1 4 1 7 1 3 1 7 6 2 1 2 1 8 4 6 9 9 9 2 0\n",
            " 5 3 5 3 9 6 9 9 6 3 6 4 5 1 4 2 0 2 7 9 1 1 5 9 9 9 0 7 5 4 8 6 8 5 5 2 6\n",
            " 9 3 3 4 7 6 2 7 5 4 5 7 1 2 9 1 9 2 6 0 3 7 7 5 9 2 8 1 2 9 4 0 3 4 7 4 6\n",
            " 9 9 3 7 6 1 3 8 6 0 5 8 2 1 5 7 8 2 5 6 6 7 3 7 6 5 0 3 9 7 9 7 1 8 3 1 2\n",
            " 9] [4 0 8 1 3 8 7 5 7 5 4 2 3 6 4 7 3 4 6 6 3 3 0 4 1 9 1 5 1 2 4 9 4 8 4 1 1\n",
            " 4 1 4 8 1 2 8 9 0 7 5 5 7 8 2 9 0 0 8 8 6 8 1 3 4 3 5 7 8 4 9 3 7 2 4 1 5\n",
            " 6 8 8 9 8 1 5 8 4 0 0 9 9 9 6 5 4 6 8 1 8 4 8 8 6 5 3 5 1 9 2 9 6 3 5 4 9\n",
            " 7 6 2 9 9 1 3 8 1 1 6 2 2 6 0 9 6 9 2 5 2 8 2 4 2 1 4 8 3 3 1 4 0 4 6 6 7\n",
            " 6 2 4 6 8 1 3 6 9 1 0 5 9 3 6 2 7 8 8 7 0 3 4 5 3 5 0 2 7 3 0 3 0 0 6 7 9\n",
            " 7 1 4 7 4 6 3 5 5 9 8 7 4 7 2 7 5 0 2 6 3 8 4 9 9 3 0 7 9 0 2 2 5 7 0 4 9\n",
            " 4 1 5 2 9 3 7 3 3 7 7 3 3 5 7 6 4 4 7 5 2 8 5 7 9 8 0 1 0 7 4 3 0 7 4 3 0\n",
            " 8 9 2 7 7 7 7 5 5 6 2 3 1 5 5 6 2 1 9 1 3 9 4 5 9 9 4 4 6 8 0 6 6 5 4 7 3\n",
            " 9 9 3 2 9 9 0 9 7 6 8 8 1 7 2 7 0 1 4 5 8 9 6 4 4 3 3 4 4 3 2 7 3 9 9 7 6\n",
            " 5 3 7 0 5 2 9 2 3 9 2 3 8 6 1 3 5 3 1 2 5 6 8 4 4 2 2 6 1 2 1 7 3 5 1 6 9\n",
            " 6 7 3 2 5 2 4 8 4 2 6 9 8 1 0 4 2 9 5 7 8 7 5 7 0 4 8 0 1 6 3 5 9 1 9 1 4\n",
            " 7 7 1 1 6 6 8 0 2 6 4 2 8 8 0 8 9 0 1 1 4 6 2 7 9 4 3 0 0 1 5 3 0 3 6 5 6\n",
            " 5 0 3 1 7 8 8 0 4 5 8 2 7 9 4 1 7 3 3 4 0 2 6 9 0 7 9 8 6 9 9 1 5 2 9 0 2\n",
            " 3 5 1 8 2 0 7 5 0 9 4 2 5 4 1 6 7 4 9 9 3 2 9 9 5 4 8 0 9 0 1 4 3 2 6 4 6\n",
            " 8 4 1 0 8 1 8 6 2 8 1 9 2 0 0 4 8 0 8 0 5 5 6 4 4 4 8 8 3 3 5 6 6 5 6 9 9\n",
            " 4 4 8 5 6 2 1 2 1 9 8 4 0 8 5 7 4 1 3 8 8 8 2 1 0 6 2 8 4 3 5 5 2 7 2 3 3\n",
            " 3 5 0 9 8 0 7 3 2 0 9 5 4 2 8 7 3 7 2 7 2 5 6 3 8 8 4 6 7 6 9 9 1 8 6 2 7\n",
            " 3 9 9 3 3 2 2 3 8 4 1 8 7 6 4 6 2 7 9 2 8 3 9 8 2 1 8 1 4 2 7 1 1 0 1 4 5\n",
            " 1 7 5 9 4 3 9 8 4 1 9 9 6 7 8 9 8 8 8 6 0 9 3 8 6 3 0 0 9 2 0 6 5 2 0 4 5\n",
            " 7 6 4 2 8 0 1 2 4 2 8 2 7 0 5 0 1 2 7 9 6 1 8 0 0 7 0 8 0 3 6 7 6 0 2 2 0\n",
            " 1 4 1 6 0 0 4 9 6 6 2 6 2 0 3 0 8 2 1 5 1 5 8 7 5 2 3 8 1 7 7 7 4 2 7 0 7\n",
            " 9 0 1 5 7 8 2 5 2 0 8 9 5 1 9 2 0 9 5 7 8 7 0 8 8 3 8 7 8 4 5 0 3 8 9 6 7\n",
            " 6 6 2 0 9 4 5 3 4 6 3 1 7 6 8 9 6 8 9 7 4 7 8 0 8 2 2 2 1 2 2 1 4 9 6 8 5\n",
            " 0 1 4 4 3 0 6 6 2 8 0 8 9 2 9 7 1 4 1 7 8 3 8 7 6 2 1 2 1 8 4 4 9 9 9 2 0\n",
            " 5 3 5 3 9 6 9 9 6 3 6 4 5 1 4 3 0 2 7 9 1 1 5 9 9 9 0 7 5 4 8 6 8 5 5 2 6\n",
            " 9 3 3 4 7 6 2 7 5 4 3 7 1 9 9 1 9 2 6 0 3 7 7 8 9 2 8 1 8 9 4 0 3 4 7 4 6\n",
            " 9 9 3 7 6 1 3 8 6 0 5 8 2 1 5 7 8 2 0 6 6 7 3 7 6 5 0 2 9 9 9 7 1 8 3 2 2\n",
            " 4]\n"
          ]
        },
        {
          "data": {
            "text/plain": [
              "0.878"
            ]
          },
          "execution_count": 30,
          "metadata": {},
          "output_type": "execute_result"
        }
      ],
      "source": [
        "dev_predictions = make_predictions(X_test, W1, b1, W2, b2)\n",
        "get_accuracy(dev_predictions, Y_test)"
      ]
    },
    {
      "cell_type": "markdown",
      "metadata": {
        "id": "TmpRVzg28oSt"
      },
      "source": [
        "#**about our trials**\n",
        "we worked with another data firstly and used mini batch in learning and tried all possible learning rates and the max **acc =** **0.34** then we searched for another ways and also the acc still the same so we changed the data and worked with another data -< mnist also we needed everything from the scratch so we splitted the data manually and then get x_train , x_test .... y_train , y_test then normalized data to be easier for the model to work with digits between [0,1] then wrote the algorithm we typically used matrix form as we took in the lec  , the first trial was with learning rate = 0.01 and number of iterations = 500 the progress was too small and slow but still there was a progress then we tried to change the learning rate with = 0.1 (increased) and number of iterations =1000 the progress was amazing and the acc - = 87%  , but it had taken 4m and 38sec in running maybe after adding the optimizer it deals with this part (time)"
      ]
    },
    {
      "cell_type": "code",
      "execution_count": null,
      "metadata": {
        "id": "1Gc8j53C-kEy"
      },
      "outputs": [],
      "source": []
    }
  ],
  "metadata": {
    "colab": {
      "name": "Simple MNIST NN from scratch (numpy, no TF/Keras)",
      "provenance": []
    },
    "kernelspec": {
      "display_name": "Python 3",
      "language": "python",
      "name": "python3"
    },
    "language_info": {
      "codemirror_mode": {
        "name": "ipython",
        "version": 3
      },
      "file_extension": ".py",
      "mimetype": "text/x-python",
      "name": "python",
      "nbconvert_exporter": "python",
      "pygments_lexer": "ipython3",
      "version": "3.13.2"
    }
  },
  "nbformat": 4,
  "nbformat_minor": 0
}
